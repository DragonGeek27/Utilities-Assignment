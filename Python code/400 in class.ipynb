{
 "cells": [
  {
   "cell_type": "code",
   "execution_count": 55,
   "metadata": {},
   "outputs": [
    {
     "name": "stdout",
     "output_type": "stream",
     "text": [
      "enter array length3\n",
      "Enter #'s1\n",
      "Enter #'s2\n",
      "Enter #'s3\n",
      "[1, 2, 3]\n",
      "Enter 2ed #'s4\n",
      "Enter 2ed #'s5\n",
      "Enter 2ed #'s6\n",
      "[4, 5, 6]\n",
      "[5, 7, 9]\n",
      "7.0\n"
     ]
    }
   ],
   "source": [
    "s = input (\"enter array length\")\n",
    "aSize = int(s)\n",
    "g=[]\n",
    "i=0\n",
    "while i < aSize:\n",
    "    a1 = input(\"Enter #'s\")\n",
    "    a1i = int(a1)\n",
    "    g.append (a1i)\n",
    "    i+=1\n",
    "print (g)\n",
    "\n",
    "aSize2 = int(s)\n",
    "g2=[]\n",
    "i2=0\n",
    "while i2 < aSize:\n",
    "    a2 = input(\"Enter 2ed #'s\")\n",
    "    a2i = int(a2)\n",
    "    g2.append (a2i)\n",
    "    i2+=1\n",
    "print (g2)\n",
    "\n",
    "i3=0\n",
    "g3=[]\n",
    "res_list = [] \n",
    "for i3 in range(0, len(g)): \n",
    "    a3 = g[i3] + g2[i3]\n",
    "    a3i = int(a3)\n",
    "    g3.append(a3i) \n",
    "print (g3)\n",
    "s=sum (g3)\n",
    "m= s/aSize\n",
    "print (m)"
   ]
  }
 ],
 "metadata": {
  "kernelspec": {
   "display_name": "Python 3",
   "language": "python",
   "name": "python3"
  },
  "language_info": {
   "codemirror_mode": {
    "name": "ipython",
    "version": 3
   },
   "file_extension": ".py",
   "mimetype": "text/x-python",
   "name": "python",
   "nbconvert_exporter": "python",
   "pygments_lexer": "ipython3",
   "version": "3.7.3"
  }
 },
 "nbformat": 4,
 "nbformat_minor": 2
}
