{
 "cells": [
  {
   "cell_type": "code",
   "execution_count": null,
   "metadata": {},
   "outputs": [],
   "source": [
    "#Numbers\n",
    "myint = 7\n",
    "print(myint)\n",
    "myfloat = float(7)\n",
    "print(myfloat)\n",
    "\n",
    "#Strings\n",
    "mystring = 'hello'\n",
    "print(mystring)\n",
    "mystring = \"hello\"\n",
    "print(mystring)\n",
    "\n",
    "mystring = \"Don't worry about apostrophes\"\n",
    "print(mystring)\n",
    "\n",
    "one = 1\n",
    "two = 2\n",
    "three = one + two\n",
    "print(three)\n",
    "\n",
    "hello = \"hello\"\n",
    "world = \"world\"\n",
    "helloworld = hello + \" \" + world\n",
    "print(helloworld)\n",
    "\n",
    "a, b = 3, 4\n",
    "print(a,b)\n",
    "\n",
    "#Exercise\n",
    "mystring = \"hello\"\n",
    "myfloat = 10.0\n",
    "myint = 20\n",
    "\n",
    "# testing code\n",
    "if mystring == \"hello\":\n",
    "    print(\"String: %s\" % mystring)\n",
    "if isinstance(myfloat, float) and myfloat == 10.0:\n",
    "    print(\"Float: %f\" % myfloat)\n",
    "if isinstance(myint, int) and myint == 20:\n",
    "    print(\"Integer: %d\" % myint)"
   ]
  }
 ],
 "metadata": {
  "kernelspec": {
   "display_name": "Python 3",
   "language": "python",
   "name": "python3"
  },
  "language_info": {
   "codemirror_mode": {
    "name": "ipython",
    "version": 3
   },
   "file_extension": ".py",
   "mimetype": "text/x-python",
   "name": "python",
   "nbconvert_exporter": "python",
   "pygments_lexer": "ipython3",
   "version": "3.7.3"
  }
 },
 "nbformat": 4,
 "nbformat_minor": 2
}
